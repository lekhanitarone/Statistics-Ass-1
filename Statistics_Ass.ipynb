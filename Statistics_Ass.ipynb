{
  "nbformat": 4,
  "nbformat_minor": 0,
  "metadata": {
    "colab": {
      "provenance": []
    },
    "kernelspec": {
      "name": "python3",
      "display_name": "Python 3"
    },
    "language_info": {
      "name": "python"
    }
  },
  "cells": [
    {
      "cell_type": "markdown",
      "source": [
        "**Question 1:** What is the difference between descriptive statistics and inferential statistics? Explain with examples.\n",
        "\n",
        "**Answer:**\n",
        "Descriptive statistics summarize and present data using measures like mean, median, and graphs.\n",
        "Inferential statistics draw conclusions about a population based on sample data.\n",
        "Example of descriptive: Showing average marks of students in a class.\n",
        "Example of inferential: Estimating average height of Indian students from a sample.\n"
      ],
      "metadata": {
        "id": "OcqKfyq7TKJq"
      }
    },
    {
      "cell_type": "markdown",
      "source": [
        "**Question 2:** What is sampling in statistics? Explain the differences between random and stratified sampling.\n",
        "\n",
        "**Answer:**\n",
        "Sampling is the process of selecting a subset from a population to analyze and draw conclusions.\n",
        "**Random sampling** gives every individual an equal chance of selection.\n",
        "**Stratified sampling** divides the population into groups (strata) and samples from each group.\n",
        "Stratified ensures representation; random is purely by chance.\n"
      ],
      "metadata": {
        "id": "GwImhzhaTNDF"
      }
    },
    {
      "cell_type": "markdown",
      "source": [
        "**Question 3:** Define mean, median, and mode. Explain why these measures of central tendency are important.\n",
        "\n",
        "**Answer:**\n",
        "**Mean** is the average of all values, **median** is the middle value, and **mode** is the most frequent value.\n",
        "They help summarize large datasets with a single representative value.\n",
        "Mean is affected by outliers, while median is not.\n",
        "These measures help in comparing and understanding data distributions.\n"
      ],
      "metadata": {
        "id": "_PA4Pt59TXMo"
      }
    },
    {
      "cell_type": "markdown",
      "source": [
        "**Question 4:** Explain skewness and kurtosis. What does a positive skew imply about the data?\n",
        "\n",
        "**Answer:**\n",
        "**Skewness** measures the asymmetry of a data distribution; **kurtosis** measures the \"tailedness\" or peak of the distribution.\n",
        "A **positive skew** means the right tail is longer, with more high-value outliers.\n",
        "It indicates that most data values are concentrated on the left.\n",
        "Skewness and kurtosis help understand the shape and nature of the data distribution.\n"
      ],
      "metadata": {
        "id": "UxXRYIWeTldT"
      }
    },
    {
      "cell_type": "code",
      "source": [
        "# Question 5: Implement a Python program to compute the mean, median, and mode of a given list of numbers.\n",
        "# numbers = [12, 15, 12, 18, 19, 12, 20, 22, 19, 19, 24, 24, 24, 26, 28]\n",
        "\n",
        "import statistics\n",
        "\n",
        "numbers = [12, 15, 12, 18, 19, 12, 20, 22, 19, 19, 24, 24, 24, 26, 28]\n",
        "\n",
        "mean = statistics.mean(numbers)\n",
        "median = statistics.median(numbers)\n",
        "mode = statistics.mode(numbers)\n",
        "\n",
        "print(\"Mean:\", mean)\n",
        "print(\"Median:\", median)\n",
        "print(\"Mode:\", mode)\n"
      ],
      "metadata": {
        "colab": {
          "base_uri": "https://localhost:8080/"
        },
        "id": "39vh3IWGT2OG",
        "outputId": "f9d57412-8460-43e7-9cdf-971ce07eb781"
      },
      "execution_count": 1,
      "outputs": [
        {
          "output_type": "stream",
          "name": "stdout",
          "text": [
            "Mean: 19.6\n",
            "Median: 19\n",
            "Mode: 12\n"
          ]
        }
      ]
    },
    {
      "cell_type": "code",
      "source": [
        "# Question 6: Compute the covariance and correlation coefficient between the following two datasets provided as lists in Python:\n",
        "# list_x = [10, 20, 30, 40, 50]\n",
        "# list_y = [15, 25, 35, 45, 60]\n",
        "\n",
        "import numpy as np\n",
        "\n",
        "list_x = [10, 20, 30, 40, 50]\n",
        "list_y = [15, 25, 35, 45, 60]\n",
        "\n",
        "# Covariance\n",
        "cov_matrix = np.cov(list_x, list_y, bias=False)\n",
        "covariance = cov_matrix[0][1]\n",
        "\n",
        "# Correlation Coefficient\n",
        "correlation = np.corrcoef(list_x, list_y)[0][1]\n",
        "\n",
        "print(\"Covariance:\", covariance)\n",
        "print(\"Correlation Coefficient:\", correlation)\n"
      ],
      "metadata": {
        "colab": {
          "base_uri": "https://localhost:8080/"
        },
        "id": "rTs8t5P-UWdk",
        "outputId": "bdbe6e5b-e0b1-4c59-e770-fc3d9df88ab8"
      },
      "execution_count": 2,
      "outputs": [
        {
          "output_type": "stream",
          "name": "stdout",
          "text": [
            "Covariance: 275.0\n",
            "Correlation Coefficient: 0.995893206467704\n"
          ]
        }
      ]
    },
    {
      "cell_type": "code",
      "source": [
        "# Question 7: Write a Python script to draw a boxplot for the following numeric list and\n",
        "# identify its outliers. Explain the result:\n",
        "# data = [12, 14, 14, 15, 18, 19, 19, 21, 22, 22, 23, 23, 24, 26, 29, 35]\n",
        "\n",
        "import matplotlib.pyplot as plt\n",
        "\n",
        "data = [12, 14, 14, 15, 18, 19, 19, 21, 22, 22, 23, 23, 24, 26, 29, 35]\n",
        "\n",
        "plt.boxplot(data)\n",
        "plt.title(\"Boxplot of Data\")\n",
        "plt.ylabel(\"Values\")\n",
        "plt.grid(True)\n",
        "plt.show()\n"
      ],
      "metadata": {
        "colab": {
          "base_uri": "https://localhost:8080/",
          "height": 452
        },
        "id": "AxP1jUUXUkFR",
        "outputId": "3d6d9110-e927-4459-cd46-d7666f292d8c"
      },
      "execution_count": 3,
      "outputs": [
        {
          "output_type": "display_data",
          "data": {
            "text/plain": [
              "<Figure size 640x480 with 1 Axes>"
            ],
            "image/png": "[encoded data removed]"
          },
          "metadata": {}
        }
      ]
    },
    {
      "cell_type": "code",
      "source": [
        "# Question 8: You are working as a data analyst in an e-commerce company. The\n",
        "# marketing team wants to know if there is a relationship between advertising spend and\n",
        "# daily sales.\n",
        "# ● Explain how you would use covariance and correlation to explore this\n",
        "# relationship.\n",
        "# ● Write Python code to compute the correlation between the two lists:\n",
        "# advertising_spend = [200, 250, 300, 400, 500]\n",
        "# daily_sales = [2200, 2450, 2750, 3200, 4000]\n",
        "\n",
        "import numpy as np\n",
        "\n",
        "advertising_spend = [200, 250, 300, 400, 500]\n",
        "daily_sales = [2200, 2450, 2750, 3200, 4000]\n",
        "\n",
        "# Covariance\n",
        "cov_matrix = np.cov(advertising_spend, daily_sales, bias=False)\n",
        "covariance = cov_matrix[0][1]\n",
        "\n",
        "# Correlation\n",
        "correlation = np.corrcoef(advertising_spend, daily_sales)[0][1]\n",
        "\n",
        "print(\"Covariance:\", covariance)\n",
        "print(\"Correlation Coefficient:\", correlation)\n"
      ],
      "metadata": {
        "colab": {
          "base_uri": "https://localhost:8080/"
        },
        "id": "Gfat_BKLU0uQ",
        "outputId": "054c254b-fce3-44fb-f404-8b2c0cbaf943"
      },
      "execution_count": 5,
      "outputs": [
        {
          "output_type": "stream",
          "name": "stdout",
          "text": [
            "Covariance: 84875.0\n",
            "Correlation Coefficient: 0.9935824101653329\n"
          ]
        }
      ]
    },
    {
      "cell_type": "code",
      "source": [
        "# Question 9: Your team has collected customer satisfaction survey data on a scale of\n",
        "# 1-10 and wants to understand its distribution before launching a new product.\n",
        "# ● Explain which summary statistics and visualizations (e.g. mean, standard\n",
        "# deviation, histogram) you’d use.\n",
        "# ● Write Python code to create a histogram using Matplotlib for the survey data:\n",
        "# survey_scores = [7, 8, 5, 9, 6, 7, 8, 9, 10, 4, 7, 6, 9, 8, 7]\n",
        "\n",
        "import matplotlib.pyplot as plt\n",
        "\n",
        "survey_scores = [7, 8, 5, 9, 6, 7, 8, 9, 10, 4, 7, 6, 9, 8, 7]\n",
        "\n",
        "plt.hist(survey_scores, bins=6, edgecolor='black')\n",
        "plt.title(\"Customer Satisfaction Survey Scores\")\n",
        "plt.xlabel(\"Satisfaction Score\")\n",
        "plt.ylabel(\"Frequency\")\n",
        "plt.grid(True)\n",
        "plt.show()\n"
      ],
      "metadata": {
        "colab": {
          "base_uri": "https://localhost:8080/",
          "height": 472
        },
        "id": "DzOmSo0uVCDg",
        "outputId": "536a2d31-812e-4999-c866-caafe6767e30"
      },
      "execution_count": 6,
      "outputs": [
        {
          "output_type": "display_data",
          "data": {
            "text/plain": [
              "<Figure size 640x480 with 1 Axes>"
            ],
            "image/png": "[encoded data removed]"
          },
          "metadata": {}
        }
      ]
    }
  ]
}